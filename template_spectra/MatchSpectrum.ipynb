{
 "cells": [
  {
   "cell_type": "markdown",
   "metadata": {},
   "source": [
    "## Spectrum Matching according to the spectrophotometric  colors "
   ]
  },
  {
   "cell_type": "markdown",
   "metadata": {},
   "source": [
    "### Load the filter information (SWIFT_UVOT)"
   ]
  },
  {
   "cell_type": "code",
   "execution_count": 1,
   "metadata": {},
   "outputs": [],
   "source": [
    "from pyphot import Filter\n",
    "import numpy as np\n",
    "import matplotlib.pyplot as plt\n",
    "\n"
   ]
  },
  {
   "cell_type": "code",
   "execution_count": 10,
   "metadata": {
    "scrolled": true
   },
   "outputs": [],
   "source": [
    "\n",
    "##  filter functions\n",
    "### B band\n",
    "Bdata = open('../filters/B_P08.txt','r')\n",
    "for line in Bdata:\n",
    "    lines = np.genfromtxt(Bdata,dtype = [('wavelength',float),('area',float)],comments='#',usecols=(0,1),unpack = True)\n",
    "lamb_B = lines[0]\n",
    "B = lines[1]\n",
    "### V band \n",
    "Vdata = open('../filters/V_P08.txt','r')\n",
    "for line in Vdata:\n",
    "    lines = np.genfromtxt(Vdata,dtype = [('wavelength',float),('area',float)],usecols=(0,1),unpack = True)\n",
    "lamb_V = lines[0]\n",
    "V = lines[1]\n",
    "###  U band\n",
    "Udata = open('../filters/U_P08.txt','r')\n",
    "for line in Udata:\n",
    "    lines = np.genfromtxt(Udata,dtype = [('wavelength',float),('area',float)],usecols=(0,1),unpack = True)\n",
    "lamb_U = lines[0]\n",
    "U = lines[1]\n",
    "### UVM2\n",
    "UVM2data = open('../filters/UVM2_B11.txt','r')\n",
    "for line in UVM2data:\n",
    "    lines = np.genfromtxt(UVM2data,dtype = [('wavelength',float),('area',float)],usecols=(0,1),unpack = True)\n",
    "lamb_UVM2 = lines[0]\n",
    "UVM2 = lines[1]\n",
    "### UVW2\n",
    "UVW2data = open('../filters/UVW2_B11.txt','r')\n",
    "for line in UVW2data:\n",
    "    lines = np.genfromtxt(UVW2data,dtype = [('wavelength',float),('area',float)],usecols=(0,1),unpack = True)\n",
    "lamb_UVW2 = lines[0]\n",
    "UVW2 = lines[1]\n",
    "###UVW1\n",
    "UVW1data = open('../filters/UVW1_B11.txt','r')\n",
    "for line in UVW1data:\n",
    "    lines = np.genfromtxt(UVW1data,dtype = [('wavelength',float),('area',float)],usecols=(0,1),unpack = True)\n",
    "lamb_UVW1 = lines[0]\n",
    "UVW1 = lines[1]"
   ]
  },
  {
   "cell_type": "code",
   "execution_count": 11,
   "metadata": {},
   "outputs": [
    {
     "data": {
      "text/plain": [
       "[<matplotlib.lines.Line2D at 0x1495cc640>,\n",
       " <matplotlib.lines.Line2D at 0x1495cc6a0>,\n",
       " <matplotlib.lines.Line2D at 0x1495cc7c0>,\n",
       " <matplotlib.lines.Line2D at 0x1495cc910>,\n",
       " <matplotlib.lines.Line2D at 0x1495cc8e0>,\n",
       " <matplotlib.lines.Line2D at 0x1495ccb20>]"
      ]
     },
     "execution_count": 11,
     "metadata": {},
     "output_type": "execute_result"
    },
    {
     "data": {
      "image/png": "[encoded data removed]",
      "text/plain": [
       "<Figure size 432x288 with 1 Axes>"
      ]
     },
     "metadata": {
      "needs_background": "light"
     },
     "output_type": "display_data"
    }
   ],
   "source": [
    "## SWIFT_UVOT_Filter\n",
    "SWIFT_UVOT_B = Filter(lamb_B,B,name = 'SWFT_UVOT_B',dtype = 'photon',unit = 'Angstrom')\n",
    "SWIFT_UVOT_U = Filter(lamb_U,U,name = 'SWFT_UVOT_U',dtype = 'photon',unit = 'Angstrom')\n",
    "SWIFT_UVOT_V = Filter(lamb_V,V,name = 'SWFT_UVOT_V',dtype = 'photon',unit = 'Angstrom')\n",
    "SWIFT_UVOT_UVM2 = Filter(lamb_UVM2, UVM2,name = 'SWFT_UVOT_UVM2',dtype = 'photon',unit = 'Angstrom')\n",
    "SWIFT_UVOT_UVW1 = Filter(lamb_UVW1,UVW1,name = 'SWFT_UVOT_UVW1',dtype = 'photon',unit = 'Angstrom')\n",
    "SWIFT_UVOT_UVW2 = Filter(lamb_UVW2,UVW2,name = 'SWFT_UVOT_UVW2',dtype = 'photon',unit = 'Angstrom')\n",
    "FilterVec = [SWIFT_UVOT_B,SWIFT_UVOT_U,SWIFT_UVOT_V,SWIFT_UVOT_UVM2,SWIFT_UVOT_UVW1,SWIFT_UVOT_UVW2]\n",
    "plt.plot(lamb_B,B,'b-', lamb_U,U,'k-',lamb_V,V,'c-',lamb_UVM2,UVM2,'g-',lamb_UVW1,UVW1,'r-',lamb_UVW2,UVW2,'y-')"
   ]
  },
  {
   "cell_type": "markdown",
   "metadata": {},
   "source": [
    "### Some functions\n",
    "\n",
    "* Filter Function: FilterFunction(Wavelength, Flux, FilterName). \n",
    "* Dust Reddening Law: Reddening(Wavelength, Flux, EB_V, Flux). "
   ]
  },
  {
   "cell_type": "code",
   "execution_count": 12,
   "metadata": {},
   "outputs": [],
   "source": [
    "## Filter Function\n",
    "## Input: Spectrum: wavelength sequence; magnitude sequence; and filter name\n",
    "## filter name includes: SWIFT_UVOT_B,SWIFT_UVOT_U,SWIFT_UVOT_V,SWIFT_UVOT_UVM2,SWIFT_UVOT_UVW1,SWIFT_UVOT_UVW2\n",
    "def FilterFunction(Wavelength, Flux, FilterName):\n",
    "    flux = FilterName.get_flux(Wavelength,Flux)\n",
    "    return -2.5*np.log10(flux) - FilterName.Vega_zero_mag"
   ]
  },
  {
   "cell_type": "code",
   "execution_count": 13,
   "metadata": {},
   "outputs": [],
   "source": [
    "## Dust Reddening Law\n",
    "## Cardelli, Clayton & Mathis (1989) extinction function\n",
    "import extinction\n",
    "def Reddening(Wavelength,Flux,EB_V,RV):\n",
    "    return extinction.apply(extinction.ccm89(Wavelength,RV*EB_V,RV),Flux)\n",
    "   "
   ]
  },
  {
   "cell_type": "markdown",
   "metadata": {},
   "source": [
    "* Interpolate the function $S_{\\lambda}(x)$"
   ]
  },
  {
   "cell_type": "code",
   "execution_count": 15,
   "metadata": {},
   "outputs": [],
   "source": [
    "## Spectrum model: Spectrum =  Template + S_lambda(deltaM(15)-1.1)*10^Alambda(E(B-V)RV)\n",
    "## Only consider the maximum light at this moment\n",
    "## The uvmodel is from Foley et al. 2016 and gives a modification to a mean spectrum as a function of dm15(B)\n",
    "SlambdaData = open('uvmodel.data','r')\n",
    "lines = np.genfromtxt(SlambdaData,dtype = [('wavelength',float),('f_11',float),('Slambda',float)])\n",
    "SlambdaWave = lines['wavelength']\n",
    "Slambda = lines['Slambda']\n",
    "f_11 = lines['f_11']\n",
    "from scipy.interpolate import interp1d\n",
    "f11Fun = interp1d(SlambdaWave,f_11,kind = 'cubic')\n",
    "SlambdaFun = interp1d(SlambdaWave,Slambda ,kind = 'cubic')"
   ]
  },
  {
   "cell_type": "markdown",
   "metadata": {},
   "source": [
    "* Interpolate the template function (spectra sequences of SN2011fe)"
   ]
  },
  {
   "cell_type": "code",
   "execution_count": 17,
   "metadata": {},
   "outputs": [],
   "source": [
    "## Template spectrum (at maximum)\n",
    "### Read one text spectrum (SN2011fe maximum light)\n",
    "data = open('ptf11kly_20110903.obs.dat','r')\n",
    "lines = np.genfromtxt(data,dtype = [('wavelength',float),('flux',float),('fluxerr',float)],\n",
    "                                            usecols=(0,1,2),unpack = True)\n",
    "# Store wavelength, magnitude and error in arrays to make plot easier\n",
    "TemplateFlux_ = lines[1]\n",
    "TemplateLamb_ = lines[0]  \n",
    "TemplateLamb = TemplateLamb_[(TemplateLamb_>=np.min(SlambdaWave))& (TemplateLamb_<=np.max(SlambdaWave))]\n",
    "TemplateFlux = TemplateFlux_[(TemplateLamb_>=np.min(SlambdaWave))& (TemplateLamb_<=np.max(SlambdaWave))]"
   ]
  },
  {
   "cell_type": "code",
   "execution_count": 19,
   "metadata": {},
   "outputs": [],
   "source": [
    "# One toy example to see whether this method works or not \n",
    "#---------------------------------\n",
    "# Based on the known magnitude, we want to estimate three parameters using least square\n",
    "from pyspeckit import mpfit\n",
    "\n",
    "FilterVec = [SWIFT_UVOT_B,SWIFT_UVOT_U,SWIFT_UVOT_V,SWIFT_UVOT_UVM2,SWIFT_UVOT_UVW1,SWIFT_UVOT_UVW2]\n",
    "def peval(x, p):\n",
    "       # The model function with parameters p\n",
    "       SpectrumFlux = f11Fun(x) + SlambdaFun(x)*(p[0]-1.1)\n",
    "       ReddenSpectrumFlux = Reddening(x,SpectrumFlux,p[1],p[2])\n",
    "       mag0 = np.zeros(6)\n",
    "       col0 = np.zeros(5)\n",
    "       for i in range(6):\n",
    "           mag0[i] = FilterFunction(SlambdaWave,ReddenSpectrumFlux,FilterVec[i])\n",
    "       col0 = [mag0[5]-mag0[2],mag0[3]-mag0[2],mag0[4]-mag0[2],mag0[1]-mag0[2],mag0[0]-mag0[2]]\n",
    "       return(col0)\n",
    "def myfunct(p, fjac=None, x=None, y=None, err=None ):\n",
    "       # Function that return the weighted deviates\n",
    "       model = peval(x, p)\n",
    "       status = 0\n",
    "       return([status, (y-model)/err])"
   ]
  },
  {
   "cell_type": "markdown",
   "metadata": {},
   "source": [
    "To test whether the least squares fit can recover three parameters $\\Delta M_{15}(B), E(B-V), Rv$, we show a toy example below. \n",
    "* The three real parameters are [1.2,0.2,1.8].\n",
    "* Five spectroscopic colors are [w2, m2,w1,u,b] - v = [3.55, 4.97,1.83,0.13,0.32]\n",
    "* We add some disturbance to five spectroscopic colors, and asign some uncertainties towarys them. \n",
    "* The esimation for three parameters are [1.01 (0.08), 0.21 (0.03), 1.74 (1.21)]."
   ]
  },
  {
   "cell_type": "code",
   "execution_count": 21,
   "metadata": {},
   "outputs": [
    {
     "name": "stdout",
     "output_type": "stream",
     "text": [
      "Warning: assuming units are consistent\n",
      "Warning: assuming units are consistent\n",
      "Warning: assuming units are consistent\n",
      "Warning: assuming units are consistent\n",
      "Warning: assuming units are consistent\n",
      "Warning: assuming units are consistent\n",
      "Warning: assuming units are consistent\n",
      "Warning: assuming units are consistent\n",
      "Warning: assuming units are consistent\n",
      "Warning: assuming units are consistent\n",
      "Warning: assuming units are consistent\n",
      "Warning: assuming units are consistent\n",
      "Iter       1    CHI-SQUARE =  10.75592403  DOF =  2\n",
      "   P0 = 1.2  \n",
      "   P1 = 0.2  \n",
      "   P2 = 1.8  \n",
      "Warning: assuming units are consistent\n",
      "Warning: assuming units are consistent\n",
      "Warning: assuming units are consistent\n",
      "Warning: assuming units are consistent\n",
      "Warning: assuming units are consistent\n",
      "Warning: assuming units are consistent\n",
      "Warning: assuming units are consistent\n",
      "Warning: assuming units are consistent\n",
      "Warning: assuming units are consistent\n",
      "Warning: assuming units are consistent\n",
      "Warning: assuming units are consistent\n",
      "Warning: assuming units are consistent\n",
      "Warning: assuming units are consistent\n",
      "Warning: assuming units are consistent\n",
      "Warning: assuming units are consistent\n",
      "Warning: assuming units are consistent\n",
      "Warning: assuming units are consistent\n",
      "Warning: assuming units are consistent\n",
      "Warning: assuming units are consistent\n",
      "Warning: assuming units are consistent\n",
      "Warning: assuming units are consistent\n",
      "Warning: assuming units are consistent\n",
      "Warning: assuming units are consistent\n",
      "Warning: assuming units are consistent\n",
      "Iter       2    CHI-SQUARE =  0.0919481496  DOF =  2\n",
      "   P0 = 1.016199589  \n",
      "   P1 = 0.2037783168  \n",
      "   P2 = 1.146697875  \n",
      "Warning: assuming units are consistent\n",
      "Warning: assuming units are consistent\n",
      "Warning: assuming units are consistent\n",
      "Warning: assuming units are consistent\n",
      "Warning: assuming units are consistent\n",
      "Warning: assuming units are consistent\n",
      "Warning: assuming units are consistent\n",
      "Warning: assuming units are consistent\n",
      "Warning: assuming units are consistent\n",
      "Warning: assuming units are consistent\n",
      "Warning: assuming units are consistent\n",
      "Warning: assuming units are consistent\n",
      "Warning: assuming units are consistent\n",
      "Warning: assuming units are consistent\n",
      "Warning: assuming units are consistent\n",
      "Warning: assuming units are consistent\n",
      "Warning: assuming units are consistent\n",
      "Warning: assuming units are consistent\n",
      "Warning: assuming units are consistent\n",
      "Warning: assuming units are consistent\n",
      "Warning: assuming units are consistent\n",
      "Warning: assuming units are consistent\n",
      "Warning: assuming units are consistent\n",
      "Warning: assuming units are consistent\n",
      "Iter       3    CHI-SQUARE =  0.07121618002  DOF =  2\n",
      "   P0 = 1.032098649  \n",
      "   P1 = 0.1994245137  \n",
      "   P2 = 0.8422996542  \n",
      "Warning: assuming units are consistent\n",
      "Warning: assuming units are consistent\n",
      "Warning: assuming units are consistent\n",
      "Warning: assuming units are consistent\n",
      "Warning: assuming units are consistent\n",
      "Warning: assuming units are consistent\n",
      "Warning: assuming units are consistent\n",
      "Warning: assuming units are consistent\n",
      "Warning: assuming units are consistent\n",
      "Warning: assuming units are consistent\n",
      "Warning: assuming units are consistent\n",
      "Warning: assuming units are consistent\n",
      "Warning: assuming units are consistent\n",
      "Warning: assuming units are consistent\n",
      "Warning: assuming units are consistent\n",
      "Warning: assuming units are consistent\n",
      "Warning: assuming units are consistent\n",
      "Warning: assuming units are consistent\n",
      "Warning: assuming units are consistent\n",
      "Warning: assuming units are consistent\n",
      "Warning: assuming units are consistent\n",
      "Warning: assuming units are consistent\n",
      "Warning: assuming units are consistent\n",
      "Warning: assuming units are consistent\n",
      "Iter       4    CHI-SQUARE =  0.0710521267  DOF =  2\n",
      "   P0 = 1.032167715  \n",
      "   P1 = 0.1994377525  \n",
      "   P2 = 0.8369461984  \n",
      "Warning: assuming units are consistent\n",
      "Warning: assuming units are consistent\n",
      "Warning: assuming units are consistent\n",
      "Warning: assuming units are consistent\n",
      "Warning: assuming units are consistent\n",
      "Warning: assuming units are consistent\n",
      "Warning: assuming units are consistent\n",
      "Warning: assuming units are consistent\n",
      "Warning: assuming units are consistent\n",
      "Warning: assuming units are consistent\n",
      "Warning: assuming units are consistent\n",
      "Warning: assuming units are consistent\n",
      "Warning: assuming units are consistent\n",
      "Warning: assuming units are consistent\n",
      "Warning: assuming units are consistent\n",
      "Warning: assuming units are consistent\n",
      "Warning: assuming units are consistent\n",
      "Warning: assuming units are consistent\n",
      "Warning: assuming units are consistent\n",
      "Warning: assuming units are consistent\n",
      "Warning: assuming units are consistent\n",
      "Warning: assuming units are consistent\n",
      "Warning: assuming units are consistent\n",
      "Warning: assuming units are consistent\n",
      "Iter       5    CHI-SQUARE =  0.07105212631  DOF =  2\n",
      "   P0 = 1.032169244  \n",
      "   P1 = 0.1994377738  \n",
      "   P2 = 0.8369498498  \n",
      "Warning: assuming units are consistent\n",
      "Warning: assuming units are consistent\n",
      "Warning: assuming units are consistent\n",
      "Warning: assuming units are consistent\n",
      "Warning: assuming units are consistent\n",
      "Warning: assuming units are consistent\n",
      "Warning: assuming units are consistent\n",
      "Warning: assuming units are consistent\n",
      "Warning: assuming units are consistent\n",
      "Warning: assuming units are consistent\n",
      "Warning: assuming units are consistent\n",
      "Warning: assuming units are consistent\n",
      "Warning: assuming units are consistent\n",
      "Warning: assuming units are consistent\n",
      "Warning: assuming units are consistent\n",
      "Warning: assuming units are consistent\n",
      "Warning: assuming units are consistent\n",
      "Warning: assuming units are consistent\n",
      "Warning: assuming units are consistent\n",
      "Warning: assuming units are consistent\n",
      "Warning: assuming units are consistent\n",
      "Warning: assuming units are consistent\n",
      "Warning: assuming units are consistent\n",
      "Warning: assuming units are consistent\n",
      "Warning: assuming units are consistent\n",
      "Warning: assuming units are consistent\n",
      "Warning: assuming units are consistent\n",
      "Warning: assuming units are consistent\n",
      "Warning: assuming units are consistent\n",
      "Warning: assuming units are consistent\n",
      "status:  1\n",
      "Iterations:  5\n",
      "Fitted pars:  [1.03216924 0.19943777 0.83694985]\n",
      "Uncertainties:  [0.14989399 0.0319309  2.20920646]\n"
     ]
    }
   ],
   "source": [
    "# Generate model data for a Gaussian with param mu and sigma and add noise\n",
    "import warnings\n",
    "warnings.filterwarnings('once')\n",
    "x= SlambdaWave\n",
    "preal=[1,0.22,2]\n",
    "y_true=peval(x,preal)\n",
    "mu,sigma=0,1\n",
    "y      = y_true + 0.01 * np.random.normal(mu,sigma, len(y_true))\n",
    "err    = 0.1 * np.random.normal(mu,sigma, len(y_true) )\n",
    "# Initial estimates for MPFIT\n",
    "p0 = [1.2, 0.2,1.8]\n",
    "fa = {'x':x, 'y':y, 'err':err}\n",
    "\n",
    "# Call MPFIT with user defined function 'myfunct'\n",
    "m = mpfit.mpfit(myfunct, p0, functkw=fa )\n",
    "\n",
    "print(\"status: \", m.status)\n",
    "if (m.status <= 0): \n",
    "   print('error message = ', m.errmsg)\n",
    "else:\n",
    "   print(\"Iterations: \", m.niter)\n",
    "   print(\"Fitted pars: \", m.params)\n",
    "   print(\"Uncertainties: \", m.perror )"
   ]
  },
  {
   "cell_type": "code",
   "execution_count": 22,
   "metadata": {},
   "outputs": [
    {
     "data": {
      "text/plain": [
       "<matplotlib.legend.Legend at 0x14d6e2cd0>"
      ]
     },
     "execution_count": 22,
     "metadata": {},
     "output_type": "execute_result"
    },
    {
     "data": {
      "image/png": "[encoded data removed]",
      "text/plain": [
       "<Figure size 432x288 with 1 Axes>"
      ]
     },
     "metadata": {
      "needs_background": "light"
     },
     "output_type": "display_data"
    }
   ],
   "source": [
    "p = preal\n",
    "SpectrumFlux = f11Fun(x) + SlambdaFun(x)*(p[0]-1.1)\n",
    "#plt.plot(x,SpectrumFlux,'k-')\n",
    "ReddenSpectrumFlux = Reddening(x,SpectrumFlux,p[1],p[2])\n",
    "FittedSpectrum = Reddening(x, f11Fun(x) + SlambdaFun(x)*(m.params[0]-1.1), m.params[1],m.params[2])\n",
    "plt.plot(x,ReddenSpectrumFlux,'r*',label = \"True Spectra\")\n",
    "plt.plot(x,FittedSpectrum,'g.', label = \"Fitted Spectra\")\n",
    "plt.legend(loc=\"upper left\")"
   ]
  },
  {
   "cell_type": "code",
   "execution_count": 23,
   "metadata": {},
   "outputs": [
    {
     "name": "stdout",
     "output_type": "stream",
     "text": [
      "Warning: assuming units are consistent\n",
      "Warning: assuming units are consistent\n",
      "Warning: assuming units are consistent\n",
      "Warning: assuming units are consistent\n",
      "Warning: assuming units are consistent\n",
      "Warning: assuming units are consistent\n"
     ]
    }
   ],
   "source": [
    "import warnings\n",
    "warnings.filterwarnings('ignore')\n",
    "y_true=peval(x,preal)"
   ]
  },
  {
   "cell_type": "code",
   "execution_count": 24,
   "metadata": {},
   "outputs": [
    {
     "name": "stdout",
     "output_type": "stream",
     "text": [
      "Warning: assuming units are consistent\n"
     ]
    },
    {
     "data": {
      "text/plain": [
       "3.6729253517202336"
      ]
     },
     "execution_count": 24,
     "metadata": {},
     "output_type": "execute_result"
    }
   ],
   "source": [
    "SpectrumFlux = f11Fun(x) + SlambdaFun(x)*(p[0]-1.1)\n",
    "ReddenSpectrumFlux = Reddening(x,SpectrumFlux,p[1],p[2])\n",
    "#FilterFunction(x, ReddenSpectrumFlux, SWIFT_UVOT_B)\n",
    "import warnings  \n",
    "warnings.filterwarnings('once')\n",
    "SWIFT_UVOT_B.get_flux(x,ReddenSpectrumFlux)"
   ]
  },
  {
   "cell_type": "code",
   "execution_count": null,
   "metadata": {},
   "outputs": [],
   "source": []
  }
 ],
 "metadata": {
  "kernelspec": {
   "display_name": "Python 3 (ipykernel)",
   "language": "python",
   "name": "python3"
  },
  "language_info": {
   "codemirror_mode": {
    "name": "ipython",
    "version": 3
   },
   "file_extension": ".py",
   "mimetype": "text/x-python",
   "name": "python",
   "nbconvert_exporter": "python",
   "pygments_lexer": "ipython3",
   "version": "3.9.12"
  }
 },
 "nbformat": 4,
 "nbformat_minor": 4
}
